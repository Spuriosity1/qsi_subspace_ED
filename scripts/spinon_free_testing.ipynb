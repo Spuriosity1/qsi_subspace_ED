{
 "cells": [
  {
   "cell_type": "markdown",
   "id": "6bb7653a-b269-497e-861e-b69607457e4c",
   "metadata": {},
   "source": [
    "# "
   ]
  },
  {
   "cell_type": "markdown",
   "id": "99850bc3-1076-4ec2-9cf6-bde87210effa",
   "metadata": {},
   "source": [
    "# TODO\n",
    "\n",
    "1. Generating the lattices and bases -> farm out to the HPC\n",
    "2. Diagonalise and measure ringflip exp val DONE!\n",
    "3. Resolve the confusion about the perturbative ring DONE!"
   ]
  },
  {
   "cell_type": "code",
   "execution_count": 1,
   "id": "2d600a4c-fec9-403b-99c8-4df2e23abf8e",
   "metadata": {},
   "outputs": [],
   "source": [
    "import scipy.sparse.linalg as sLA\n",
    "from tqdm import tqdm\n",
    "import visual\n",
    "from lattice import Lattice\n",
    "import matplotlib.pyplot as plt\n"
   ]
  },
  {
   "cell_type": "code",
   "execution_count": 2,
   "id": "57e883bd-479f-4ff8-a316-8ec66f950665",
   "metadata": {},
   "outputs": [],
   "source": [
    "from ringflip_hamiltonian import RingflipHamiltonian, build_matrix, ring_exp_values\n",
    "\n"
   ]
  },
  {
   "cell_type": "code",
   "execution_count": 3,
   "id": "4b823a06-c4db-4481-9edd-3c6c7f22f7a4",
   "metadata": {},
   "outputs": [],
   "source": [
    "\n",
    "\n",
    "\n",
    "\n",
    "# visualisation methods\n",
    "def show_lattice(h: RingflipHamiltonian):\n",
    "        fig =plt.figure()\n",
    "        ax=fig.add_axes([0,0,1,1],projection='3d')\n",
    "        # visual.plot_cell(ax, h.lattice)\n",
    "        visual.plot_atoms(ax, h.lattice)\n",
    "        return fig, ax\n",
    "\n",
    "\n",
    "def show_state(l: Lattice, state: int):\n",
    "    fig =plt.figure()\n",
    "    ax=fig.add_axes([0,0,1,1],projection='3d')\n",
    "    # visual.plot_cell(ax, h.lattice)\n",
    "    for (i, a) in enumerate(l.atoms):\n",
    "        ax.scatter(*[int(x) for x in a.xyz], color='k' if state&(1<<i) else 'red')\n",
    "        \n",
    "    \n",
    "    \n"
   ]
  },
  {
   "cell_type": "code",
   "execution_count": 37,
   "id": "cf835146-8225-4eaf-8b3e-d349f9bfd763",
   "metadata": {
    "scrolled": true
   },
   "outputs": [
    {
     "name": "stdout",
     "output_type": "stream",
     "text": [
      "Basis stats: 310 charge sectors, total dim 12846186\n"
     ]
    }
   ],
   "source": [
    "cellspec = [[3,0,0],[0,-3,0],[0,0,-2]]\n",
    "# cellspec = [[1,-1,-1],[1,-1,1],[1,1,-1]]\n",
    "import pyrochlore\n",
    "\n",
    "lat = pyrochlore.import_json(\"../lattice_files/pyro_1_3_6x-12,-4,-8b0,-4,-4b4,0,4b1.json\")\n",
    "full_lat = RingflipHamiltonian(lat)\n",
    "full_lat.calc_basis(recalc=False)\n",
    "# name = \"%d%d%d_%d%d%d_%d%d%d\" % tuple(x for x in np.ravel(cellspec))\n",
    "# pyrochlore.export_json(full_lat.lattice, \"../lattice_files/pyro_\"+name+\".json\")"
   ]
  },
  {
   "cell_type": "code",
   "execution_count": 13,
   "id": "9f4c7ac0-f336-4fe5-ad7f-35820fd746aa",
   "metadata": {},
   "outputs": [],
   "source": [
    "sectors = list(full_lat.sectors)\n"
   ]
  },
  {
   "cell_type": "code",
   "execution_count": 16,
   "id": "22ea9d4e-067e-4d8e-8c3f-03837738ea33",
   "metadata": {
    "scrolled": true
   },
   "outputs": [],
   "source": [
    "# full_lat.set_ring_exchange([1,1,1,1])\n",
    "import numpy as np\n",
    "\n",
    "def calc_spectrum(g, lat:RingflipHamiltonian):\n",
    "    results = {}\n",
    "    for s in full_lat.sectors:\n",
    "        H = build_matrix(full_lat, g=[-1,-1,-1,-1], sector=s)\n",
    "        \n",
    "        if H.shape[0] < 100:\n",
    "            e, v = np.linalg.eigh(H.todense())\n",
    "            results[s] = (e,v)\n",
    "        else:\n",
    "            e, v = sLA.eigs(H,k=30,which='SR')\n",
    "            results[s] = (e,v)\n",
    "    return results\n",
    "        \n",
    "\n",
    "res = calc_spectrum([1,1,1,1], full_lat)\n"
   ]
  },
  {
   "cell_type": "code",
   "execution_count": 25,
   "id": "9b4df09b-6674-4e63-9e72-d8c0a7f18be5",
   "metadata": {},
   "outputs": [
    {
     "data": {
      "image/png": "[encoded data removed]",
      "text/plain": [
       "<Figure size 640x480 with 1 Axes>"
      ]
     },
     "metadata": {},
     "output_type": "display_data"
    }
   ],
   "source": [
    "# plt.plot(np.real(np.sort(e1)),'kx',label='lanczos')\n",
    "for s in res:\n",
    "    e, v = res[s]\n",
    "    plt.plot(np.sort(e)[:30],'+', label=str(s))\n",
    "\n",
    "plt.plot(np.sort(res[(4,4,4,4)][0]),'ko')\n",
    "\n",
    "# plt.legend()\n",
    "exps = ring_exp_values(full_lat, (4,4,4,4), res[(4,4,4,4)][1][:,:6])"
   ]
  },
  {
   "cell_type": "code",
   "execution_count": 29,
   "id": "17f184c3-72ae-4b1e-847c-d081f536072f",
   "metadata": {},
   "outputs": [
    {
     "data": {
      "text/plain": [
       "<matplotlib.image.AxesImage at 0x10a721880>"
      ]
     },
     "execution_count": 29,
     "metadata": {},
     "output_type": "execute_result"
    },
    {
     "data": {
      "image/png": "[encoded data removed]",
      "text/plain": [
       "<Figure size 640x480 with 1 Axes>"
      ]
     },
     "metadata": {},
     "output_type": "display_data"
    }
   ],
   "source": [
    "plt.imshow(np.real(exps[0]))"
   ]
  },
  {
   "cell_type": "code",
   "execution_count": null,
   "id": "a691d052-d577-4f31-a95f-1e5f078ad430",
   "metadata": {},
   "outputs": [],
   "source": [
    "fig =plt.figure()\n",
    "ax=fig.add_axes([0,0,1,1],projection='3d')\n",
    "\n",
    "rf = full_lat.ringflips[0]\n",
    "\n",
    "hexa = [full_lat.lattice.atoms[j].xyz for j in rf.members]\n",
    "\n",
    "X = [float(hexa[-1][0])]\n",
    "Y = [float(hexa[-1][1])]\n",
    "Z = [float(hexa[-1][2])]\n",
    "\n",
    "for xyz in hexa:\n",
    "    X.append(float(xyz[0]))\n",
    "    Y.append(float(xyz[1]))\n",
    "    Z.append(float(xyz[2]))\n",
    "    \n",
    "ax.plot(X, Y ,Z,color='k',lw=3)\n",
    "# ax.plot([0,-1],[0,-1],[0,-1],lw=3)\n",
    "visual.plot_cell(ax, full_lat.lattice)\n",
    "rf.sl"
   ]
  },
  {
   "cell_type": "code",
   "execution_count": null,
   "id": "2a06f380-09cf-4d48-8e46-0561870ef58e",
   "metadata": {},
   "outputs": [],
   "source": [
    "full_lat.lattice.atoms[0].sl_name"
   ]
  },
  {
   "cell_type": "code",
   "execution_count": null,
   "id": "54be3654-7479-44a1-bd80-0ce99d73e0c3",
   "metadata": {},
   "outputs": [],
   "source": [
    "\n",
    "def visualise_state(ax, l:RingflipHamiltonian, state:int):\n",
    "    # input->state: understood as a bitstring\n",
    "    for i,a in enumerate(l.lattice.atoms):\n",
    "        \n",
    "        \n",
    "        color='k'if (state&(1<<i)) == 0 else 'white'\n",
    "\n",
    "        ax.plot(*a.xyz, 'o', \n",
    "                color = color,\n",
    "               markeredgecolor='k' \n",
    "               )\n",
    "        "
   ]
  },
  {
   "cell_type": "code",
   "execution_count": null,
   "id": "f4554273-9475-4d2e-828f-ce4c590ac14e",
   "metadata": {},
   "outputs": [],
   "source": [
    "\n",
    "fig =plt.figure()\n",
    "ax=fig.add_axes([0,0,1,1],projection='3d')\n",
    "\n",
    "visualise_state(ax, full_lat, full_lat.basis[55])\n"
   ]
  },
  {
   "cell_type": "code",
   "execution_count": null,
   "id": "a5e8a5ee-908d-46b6-b59a-215543db02da",
   "metadata": {},
   "outputs": [],
   "source": [
    "res = partition_polarisation_sectors(full_lat.basis, full_lat.lattice)"
   ]
  },
  {
   "cell_type": "code",
   "execution_count": null,
   "id": "94728a1c-18e5-4b66-a3b6-d8278107283f",
   "metadata": {
    "scrolled": true
   },
   "outputs": [],
   "source": [
    "res"
   ]
  },
  {
   "cell_type": "code",
   "execution_count": null,
   "id": "e9477e47-8418-4ec2-8316-05ad3a342901",
   "metadata": {
    "scrolled": true
   },
   "outputs": [],
   "source": [
    "len(res[(4,4,4,4)])"
   ]
  },
  {
   "cell_type": "code",
   "execution_count": null,
   "id": "eda0ede8-3bef-4ef3-83be-3e607c14c1fe",
   "metadata": {},
   "outputs": [],
   "source": []
  }
 ],
 "metadata": {
  "kernelspec": {
   "display_name": "Python 3 (ipykernel)",
   "language": "python",
   "name": "python3"
  },
  "language_info": {
   "codemirror_mode": {
    "name": "ipython",
    "version": 3
   },
   "file_extension": ".py",
   "mimetype": "text/x-python",
   "name": "python",
   "nbconvert_exporter": "python",
   "pygments_lexer": "ipython3",
   "version": "3.12.5"
  }
 },
 "nbformat": 4,
 "nbformat_minor": 5
}
