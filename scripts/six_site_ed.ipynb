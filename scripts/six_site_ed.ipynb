{
 "cells": [
  {
   "cell_type": "code",
   "execution_count": 1,
   "id": "426cc4e8-6d25-4494-93ac-006154ef5b79",
   "metadata": {},
   "outputs": [],
   "source": [
    "import quspin.basis as qbasis"
   ]
  },
  {
   "cell_type": "code",
   "execution_count": 2,
   "id": "1e23bd82-c006-451d-8dc7-2cce6cf34914",
   "metadata": {},
   "outputs": [],
   "source": [
    "basis1 = qbasis.spin_basis_1d(6)\n"
   ]
  },
  {
   "cell_type": "code",
   "execution_count": null,
   "id": "85ca3331-128f-4f66-89f6-2364a224da5e",
   "metadata": {},
   "outputs": [],
   "source": [
    "# define PBC site-coupling lists for operators\n",
    "B_field = 0.01 * np.array([1,1,1])/np.sqrt(3)\n",
    "\n",
    "\n",
    "\n",
    "x_field = [[g, i] for i in range(6)]\n",
    "J_nn = [[J, i, (i + 1) % L] for i in range(6)]  # PBC\n",
    "static = [[\"zz\", J_nn], [\"z\", z_field]]\n",
    "H = hamiltonian(static, [], dtype=np.float64, basis=basis)\n"
   ]
  }
 ],
 "metadata": {
  "kernelspec": {
   "display_name": "Python 3 (ipykernel)",
   "language": "python",
   "name": "python3"
  },
  "language_info": {
   "codemirror_mode": {
    "name": "ipython",
    "version": 3
   },
   "file_extension": ".py",
   "mimetype": "text/x-python",
   "name": "python",
   "nbconvert_exporter": "python",
   "pygments_lexer": "ipython3",
   "version": "3.12.5"
  }
 },
 "nbformat": 4,
 "nbformat_minor": 5
}
