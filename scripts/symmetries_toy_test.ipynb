{
 "cells": [
  {
   "cell_type": "markdown",
   "id": "c31a6d06-ed20-41a6-9fb8-7076cee2a5a0",
   "metadata": {},
   "source": [
    "# Testing irrep construction\n",
    "\n",
    "Given state $\\ket{v}$, 1D irrep $T$ of order $N$ (i.e. such that \n",
    "$$\n",
    "\\{\\ket{v}, T\\ket{v}, T^2\\ket{v}, ... , T^{N-1}\\ket{v}\\}\n",
    "$$\n",
    "is a subspace of dimension $N$), straightforward to construct Bloch waves\n",
    "\n",
    "$$\n",
    "\\ket{k} := \\sum_{n=0}^{N-1} e^{i k n} T^{n}\\ket{v}\n",
    "$$\n",
    "\n",
    "where $k = 2\\pi m/N$ for some integer $m$.\n",
    "\n"
   ]
  },
  {
   "cell_type": "code",
   "execution_count": 286,
   "id": "0a2a0e31-08ec-4161-bbb3-7571f8f80a79",
   "metadata": {},
   "outputs": [],
   "source": [
    "import numpy as np\n",
    "import bit_tools\n",
    "import bisect\n",
    "from sympy.combinatorics import PermutationGroup, Permutation\n",
    "\n",
    "basis = sorted([0b0011, 0b0101, 0b0110, 0b1010, 0b1100, 0b1001])\n"
   ]
  },
  {
   "cell_type": "code",
   "execution_count": 287,
   "id": "e4d49506-7c4b-4c42-8ba2-7f8bca90a0c4",
   "metadata": {},
   "outputs": [],
   "source": [
    "import itertools\n",
    "\n",
    "def perm_order(P):\n",
    "    # expects P to be a permutation written as a list\n",
    "    order = 1\n",
    "\n",
    "    P = np.array(P)\n",
    "    y = P.copy()\n",
    "    while any(i != x for i, x in enumerate(y) ):\n",
    "        order += 1\n",
    "        y = P[y]\n",
    "    return order\n"
   ]
  },
  {
   "cell_type": "code",
   "execution_count": 289,
   "id": "fafe6ecf-875a-48af-b904-0f08c85de323",
   "metadata": {
    "scrolled": true
   },
   "outputs": [],
   "source": [
    "# def idperm_like(g):\n",
    "#     return np.array([i for i,_ in enumerate(g)])\n",
    "\n",
    "\n",
    "# def make_perm_powers(perms):\n",
    "\n",
    "#     idperm = idperm_like(perms[0])\n",
    "#     # pre-calculate nth powers of the perms\n",
    "    \n",
    "#     assert all(len(P) == len(idperm) for P in perms), \"all permutations must have same length\"\n",
    "\n",
    "#     perm_powers = []\n",
    "#     for P in perms:\n",
    "#         x = idperm\n",
    "#         power_list = [idperm]\n",
    "#         while True:\n",
    "#             x = P[x]\n",
    "#             if np.all(x == idperm):\n",
    "#                 break\n",
    "#             power_list.append(x)\n",
    "#         perm_powers.append(power_list)\n",
    "\n",
    "#     return perm_powers\n",
    "\n",
    "\n"
   ]
  },
  {
   "cell_type": "code",
   "execution_count": 297,
   "id": "2ba4f645-e08f-4048-a88e-9738c9c5c273",
   "metadata": {},
   "outputs": [],
   "source": [
    "\n",
    "\n",
    "def partition_basis(blist, group:PermutationGroup, verify_basis=True):\n",
    "    orbits = []    \n",
    "    # the basis elements already in an orbit\n",
    "    covered_elems = []\n",
    "\n",
    "    idx = 0\n",
    "    while idx < len(blist):\n",
    "        seed_state = blist[idx]\n",
    "\n",
    "        J = bisect.bisect_left(covered_elems, seed_state)\n",
    "        if J < len(covered_elems) and covered_elems[J] == seed_state:\n",
    "            # we have already hit this\n",
    "            idx+= 1\n",
    "            continue\n",
    "            \n",
    "\n",
    "        curr_orbit = []\n",
    "        for g in group.elements:\n",
    "                \n",
    "            state = bit_tools.bitperm(g.array_form, seed_state)\n",
    "            idx_to_insert = bisect.bisect_left(covered_elems, state)\n",
    "\n",
    "            if verify_basis:\n",
    "                J = bisect.bisect_left(blist, state)\n",
    "                if blist[J] != state:\n",
    "                    raise ValueError(\"Basis is not closed under the symmetry operation\")\n",
    "            \n",
    "            if idx_to_insert >= len(covered_elems) or covered_elems[idx_to_insert] != state:\n",
    "                covered_elems.insert(idx_to_insert, state)\n",
    "            \n",
    "                curr_orbit.append(state)\n",
    "            \n",
    "        \n",
    "\n",
    "        orbits.append(curr_orbit)\n",
    "        idx+= 1\n",
    "\n",
    "    return orbits"
   ]
  },
  {
   "cell_type": "code",
   "execution_count": null,
   "id": "0357e7c6-9d52-48f9-b773-b2b6caa2e880",
   "metadata": {},
   "outputs": [],
   "source": []
  },
  {
   "cell_type": "code",
   "execution_count": 285,
   "id": "84eaa4e5-7e2c-4978-8e0d-36657eb132ed",
   "metadata": {},
   "outputs": [
    {
     "ename": "SyntaxError",
     "evalue": "incomplete input (1797845655.py, line 3)",
     "output_type": "error",
     "traceback": [
      "\u001b[0;36m  Cell \u001b[0;32mIn[285], line 3\u001b[0;36m\u001b[0m\n\u001b[0;31m    \u001b[0m\n\u001b[0m    ^\u001b[0m\n\u001b[0;31mSyntaxError\u001b[0m\u001b[0;31m:\u001b[0m incomplete input\n"
     ]
    }
   ],
   "source": [
    "class RepDecomposition:\n",
    "    def __init__(self, basis_list):\n",
    "        self.basis_list.append"
   ]
  },
  {
   "cell_type": "code",
   "execution_count": 310,
   "id": "335d4590-a2f2-466a-980a-49a42c530808",
   "metadata": {},
   "outputs": [],
   "source": [
    "P = PermutationGroup([Permutation(x) for x in [[1,2,0,3], [1,0,2,3]]])"
   ]
  },
  {
   "cell_type": "code",
   "execution_count": 313,
   "id": "2570ca91-1777-4b9b-a365-ad702d343225",
   "metadata": {},
   "outputs": [],
   "source": [
    "# G = generate_Abelian([0,1,3,2], [1,0,2,3])\n",
    "res = partition_basis(basis,  P)"
   ]
  },
  {
   "cell_type": "code",
   "execution_count": 314,
   "id": "d1f76129-4223-46b2-a2ba-a502bc36d222",
   "metadata": {},
   "outputs": [
    {
     "name": "stdout",
     "output_type": "stream",
     "text": [
      "[\n",
      "000011 \n",
      "000110 \n",
      "000101 \n",
      "]\n",
      "[\n",
      "001001 \n",
      "001010 \n",
      "001100 \n",
      "]\n"
     ]
    }
   ],
   "source": [
    "def fmt_bin(x):\n",
    "    return f\"{x:06b}\"\n",
    "\n",
    "for r in res:\n",
    "    print(\"[\")\n",
    "    for k in r:\n",
    "        print(f\"{k:06b} \")\n",
    "    print(\"]\")"
   ]
  },
  {
   "cell_type": "code",
   "execution_count": 323,
   "id": "a22cd0a9-81ee-420c-ae52-c0c57a2c851a",
   "metadata": {},
   "outputs": [
    {
     "data": {
      "text/plain": [
       "{Permutation(3)(0, 1, 2), Permutation(3)(0, 2, 1)}"
      ]
     },
     "execution_count": 323,
     "metadata": {},
     "output_type": "execute_result"
    }
   ],
   "source": [
    "P.conjugacy_classes()[1]"
   ]
  },
  {
   "cell_type": "code",
   "execution_count": 319,
   "id": "3289c3fe-926c-44b5-8a69-761de8748b28",
   "metadata": {},
   "outputs": [
    {
     "name": "stdout",
     "output_type": "stream",
     "text": [
      "Matrix([[0, 0, 0], [0, 0, 0], [0, 0, 0]])\n"
     ]
    }
   ],
   "source": [
    "import sympy as syp\n",
    "\n",
    "def decompose_orbit(orbit, characters, cc_list):\n",
    "    # :param characters, cc_list -> matching characters and conjugacy classes\n",
    "    # step 1: compute perm group rep\n",
    "    M = syp.zeros(len(orbit),len(orbit))\n",
    "    print(M)\n",
    "    assert len(characters) == len(G.conjugacy_classes)\n",
    "    cc_repr_matrices = \n",
    "    for cc in G.conjugacy_classes():\n",
    "        tmp = syp.zeros(len(orbit),len(orbit))\n",
    "        for state in orbit:\n",
    "            bit_tools.bitperm(\n",
    "        \n",
    "\n",
    "decompose_orbit(res[0], P)"
   ]
  },
  {
   "cell_type": "code",
   "execution_count": 308,
   "id": "6015ecd1-a897-4cfa-86e6-4f5a36c5c30d",
   "metadata": {},
   "outputs": [],
   "source": [
    "# class CharacterTable:\n",
    "#     def __init__(self, G:PermutationGroup):\n",
    "#         self.G = G\n",
    "#         self.\n",
    "\n",
    "\n",
    "# def decompose_orbits(orbit_set, ct:CharacterTable):"
   ]
  },
  {
   "cell_type": "code",
   "execution_count": 279,
   "id": "6ffdb65f-0368-4c53-9ff4-c67a4c812c7c",
   "metadata": {},
   "outputs": [
    {
     "data": {
      "text/plain": [
       "[np.int64(3)]"
      ]
     },
     "execution_count": 279,
     "metadata": {},
     "output_type": "execute_result"
    }
   ],
   "source": [
    "res[0]"
   ]
  },
  {
   "cell_type": "code",
   "execution_count": null,
   "id": "bedf736d-aa37-4e04-a043-3531ba353b03",
   "metadata": {},
   "outputs": [],
   "source": []
  }
 ],
 "metadata": {
  "kernelspec": {
   "display_name": "Python 3 (ipykernel)",
   "language": "python",
   "name": "python3"
  },
  "language_info": {
   "codemirror_mode": {
    "name": "ipython",
    "version": 3
   },
   "file_extension": ".py",
   "mimetype": "text/x-python",
   "name": "python",
   "nbconvert_exporter": "python",
   "pygments_lexer": "ipython3",
   "version": "3.12.5"
  }
 },
 "nbformat": 4,
 "nbformat_minor": 5
}
