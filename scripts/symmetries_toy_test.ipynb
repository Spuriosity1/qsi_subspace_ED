{
 "cells": [
  {
   "cell_type": "markdown",
   "id": "c31a6d06-ed20-41a6-9fb8-7076cee2a5a0",
   "metadata": {},
   "source": [
    "# Testing irrep construction\n",
    "\n",
    "Given state $\\ket{v}$, 1D irrep $T$ of order $N$ (i.e. such that \n",
    "$$\n",
    "\\{\\ket{v}, T\\ket{v}, T^2\\ket{v}, ... , T^{N-1}\\ket{v}\\}\n",
    "$$\n",
    "is a subspace of dimension $N$), straightforward to construct Bloch waves\n",
    "\n",
    "$$\n",
    "\\ket{k} := \\sum_{n=0}^{N-1} e^{i k n} T^{n}\\ket{v}\n",
    "$$\n",
    "\n",
    "where $k = 2\\pi m/N$ for some integer $m$.\n",
    "\n"
   ]
  },
  {
   "cell_type": "code",
   "execution_count": 202,
   "id": "0a2a0e31-08ec-4161-bbb3-7571f8f80a79",
   "metadata": {},
   "outputs": [],
   "source": [
    "import numpy as np\n",
    "import bit_tools\n",
    "import bisect\n",
    "from sympy.combinatorics import PermutationGroup, Permutation\n",
    "from sortedcontainers import SortedDict\n"
   ]
  },
  {
   "cell_type": "code",
   "execution_count": 164,
   "id": "19672913-96ca-4f7e-9515-06bc133e55c0",
   "metadata": {},
   "outputs": [],
   "source": [
    "\n",
    "def find_word(G, perm):\n",
    "    \"\"\"Finds the word representation of perm in terms of G.generators\"\"\"\n",
    "    from collections import deque\n",
    "    \n",
    "    # Identity permutation\n",
    "    identity = Permutation(list(range(len(perm.array_form))))\n",
    "    \n",
    "    # BFS queue: stores (current permutation, word leading to it)\n",
    "    queue = deque([(identity, [])])\n",
    "    visited = {identity: []}\n",
    "    \n",
    "    generators = G.generators + [g**-1 for g in G.generators]  # Include inverses\n",
    "    gen_indices = [i+1 for i in range(len(G.generators))] + [-i-1 for i in range(len(G.generators))]\n",
    "\n",
    "    while queue:\n",
    "        current_perm, word = queue.popleft()\n",
    "\n",
    "        # If we found the target permutation, return the word\n",
    "        if current_perm == perm:\n",
    "            return word\n",
    "        \n",
    "        for gen, index in zip(generators, gen_indices):\n",
    "            new_perm = current_perm * gen\n",
    "            \n",
    "            if new_perm not in visited:\n",
    "                visited[new_perm] = word + [index]  # Extend the word\n",
    "                queue.append((new_perm, word + [index]))\n",
    "    \n",
    "    return None  # Should never happen in a well-defined group"
   ]
  },
  {
   "cell_type": "code",
   "execution_count": 146,
   "id": "7f5b7baa-199b-4198-9bbf-98b40b70aa60",
   "metadata": {},
   "outputs": [],
   "source": [
    "def multirange(*args):\n",
    "    return itertools.product(*[range(n) for n in args])\n",
    "\n",
    "def group_power(generators, N):\n",
    "    h = generators[0]**0\n",
    "    for g, n in zip(generators, N):\n",
    "        h *= g**n\n",
    "    return h\n",
    "    "
   ]
  },
  {
   "cell_type": "code",
   "execution_count": 194,
   "id": "2ba4f645-e08f-4048-a88e-9738c9c5c273",
   "metadata": {},
   "outputs": [],
   "source": [
    "\n",
    "def partition_basis_Abelian(blist, group:PermutationGroup, verify_basis=True):\n",
    "    \"\"\"\n",
    "    @param blist -> a list of basis vectors, represented in Sz basis as bitstrings\n",
    "    @param group -> the symmetry group\n",
    "    @param verify_basis -> enables checks that the basis respects the symmetries\n",
    "\n",
    "    @return a SortedDict, keys are basis states, values are of form (seed_state_idx, (n1,n2,n3))\n",
    "        to indicate that the idx'th\n",
    "    \"\"\"\n",
    "    orbit_index = SortedDict()\n",
    "    \n",
    "    covered_elems = [] # the basis elements already in an orbit\n",
    "    assert group.is_abelian\n",
    "\n",
    "    gen_orders = [g.order() for g in group.generators]\n",
    "\n",
    "    seed_state_list = []\n",
    "\n",
    "    num_orbits = 0\n",
    "    idx = 0\n",
    "    while idx < len(blist):\n",
    "        seed_state = blist[idx]\n",
    "        \n",
    "\n",
    "        J = bisect.bisect_left(covered_elems, seed_state)\n",
    "        if J < len(covered_elems) and covered_elems[J] == seed_state:\n",
    "            # we have already hit this\n",
    "            idx+= 1\n",
    "            continue\n",
    "\n",
    "        seed_state_list.append(seed_state)\n",
    "\n",
    "        # curr_orbit = []\n",
    "        \n",
    "        for N in multirange(*gen_orders):\n",
    "            g = group_power(group.generators, N)\n",
    "            state = bit_tools.bitperm(g.array_form, seed_state)\n",
    "            idx_to_insert = bisect.bisect_left(covered_elems, state)\n",
    "\n",
    "            if verify_basis:\n",
    "                J = bisect.bisect_left(blist, state)\n",
    "                if blist[J] != state:\n",
    "                    raise ValueError(\"Basis is not closed under the symmetry operation\")\n",
    "            \n",
    "            if idx_to_insert >= len(covered_elems) or covered_elems[idx_to_insert] != state:\n",
    "                covered_elems.insert(idx_to_insert, state)\n",
    "                orbit_index[state] = (num_orbits, N)\n",
    "                # curr_orbit.append((N, state))\n",
    "                # sector_dims[N] += 1\n",
    "            \n",
    "        \n",
    "\n",
    "        # orbits.append(curr_orbit)\n",
    "        num_orbits += 1\n",
    "        idx+= 1\n",
    "\n",
    "    return orbit_index, seed_state_list"
   ]
  },
  {
   "cell_type": "code",
   "execution_count": 216,
   "id": "0357e7c6-9d52-48f9-b773-b2b6caa2e880",
   "metadata": {},
   "outputs": [
    {
     "name": "stdout",
     "output_type": "stream",
     "text": [
      "CPU times: user 63.9 ms, sys: 9.15 ms, total: 73.1 ms\n",
      "Wall time: 99.6 ms\n",
      "CPU times: user 18 μs, sys: 7 μs, total: 25 μs\n",
      "Wall time: 25.7 μs\n"
     ]
    }
   ],
   "source": [
    "Lx = 4\n",
    "Ly = 5\n",
    "\n",
    "\n",
    "def make_basis(N):\n",
    "    basis = []\n",
    "    for J in range(1<<N):\n",
    "        if J.bit_count() == N//2:\n",
    "            basis.append(J)\n",
    "    basis.sort()\n",
    "    return basis\n",
    "\n",
    "%time basis = make_basis(Lx*Ly)\n",
    "\n",
    "def make_transl_ops(Lx, Ly):\n",
    "    Tx = np.zeros(Lx*Ly)\n",
    "    Ty = np.zeros(Lx*Ly)\n",
    "    \n",
    "    for ix in range(Lx):\n",
    "        for iy in range(Ly):\n",
    "            Tx[Ly*ix+iy] = Ly*((ix+1)%Lx)+iy\n",
    "            Ty[Ly*ix+iy] = Ly*ix + ((iy+1)%Ly)\n",
    "    return Tx, Ty\n",
    "\n",
    "%time Tx, Ty = make_transl_ops(Lx, Ly)\n",
    "\n",
    "G = PermutationGroup(Permutation(Tx), Permutation(Ty))\n",
    "\n"
   ]
  },
  {
   "cell_type": "code",
   "execution_count": 212,
   "id": "b88fb4fd-b32c-441b-9ed2-d6a3e944ca3a",
   "metadata": {},
   "outputs": [
    {
     "name": "stdout",
     "output_type": "stream",
     "text": [
      "CPU times: user 5.63 s, sys: 25.6 ms, total: 5.65 s\n",
      "Wall time: 5.65 s\n"
     ]
    }
   ],
   "source": [
    "%%time\n",
    "basis_partition, seeds = partition_basis_Abelian(basis, G)"
   ]
  },
  {
   "cell_type": "code",
   "execution_count": 200,
   "id": "26a2e6e9-5905-4d4b-b7a7-c9e5b8bfff71",
   "metadata": {},
   "outputs": [],
   "source": [
    "# check that this works as expected\n",
    "for state in basis_partition:\n",
    "    J, N = basis_partition[state]\n",
    "    s2 = bit_tools.bitperm(group_power(G.generators, N).array_form, seeds[J])\n",
    "    assert state == s2, f\"{state:09b} {s2:09b} seed {seeds[J]:09b} ^ {N}\""
   ]
  },
  {
   "cell_type": "code",
   "execution_count": 279,
   "id": "6ffdb65f-0368-4c53-9ff4-c67a4c812c7c",
   "metadata": {},
   "outputs": [
    {
     "data": {
      "text/plain": [
       "[np.int64(3)]"
      ]
     },
     "execution_count": 279,
     "metadata": {},
     "output_type": "execute_result"
    }
   ],
   "source": [
    "\n"
   ]
  },
  {
   "cell_type": "code",
   "execution_count": null,
   "id": "4be7d4dd-acf3-462a-8c3f-07629ddd9621",
   "metadata": {},
   "outputs": [],
   "source": []
  }
 ],
 "metadata": {
  "kernelspec": {
   "display_name": "Python 3 (ipykernel)",
   "language": "python",
   "name": "python3"
  },
  "language_info": {
   "codemirror_mode": {
    "name": "ipython",
    "version": 3
   },
   "file_extension": ".py",
   "mimetype": "text/x-python",
   "name": "python",
   "nbconvert_exporter": "python",
   "pygments_lexer": "ipython3",
   "version": "3.12.5"
  }
 },
 "nbformat": 4,
 "nbformat_minor": 5
}
