{
 "cells": [
  {
   "cell_type": "code",
   "execution_count": 17,
   "id": "9954b70c-b633-48c7-a905-54af2fb0bc3a",
   "metadata": {},
   "outputs": [],
   "source": [
    "import numpy as np\n",
    "from scipy.sparse import csr_matrix\n",
    "from sympy.combinatorics import PermutationGroup, Permutation\n",
    "\n",
    "# Define the symmetry group P\n",
    "generators = [[1,2,0,4,5,3], [3,4,5,0,1,2], [0,2,1,3,5,4]]  # List of generators of P\n",
    "D = PermutationGroup([Permutation(g) for g in generators])"
   ]
  },
  {
   "cell_type": "code",
   "execution_count": 11,
   "id": "3c7e2d62-55d7-4fa3-9b51-67af749bca93",
   "metadata": {},
   "outputs": [
    {
     "ename": "AttributeError",
     "evalue": "'PermutationGroup' object has no attribute 'irreps'",
     "output_type": "error",
     "traceback": [
      "\u001b[0;31m---------------------------------------------------------------------------\u001b[0m",
      "\u001b[0;31mAttributeError\u001b[0m                            Traceback (most recent call last)",
      "Cell \u001b[0;32mIn[11], line 5\u001b[0m\n\u001b[1;32m      2\u001b[0m B \u001b[38;5;241m=\u001b[39m \u001b[38;5;28msorted\u001b[39m([\u001b[38;5;241m0b0011\u001b[39m, \u001b[38;5;241m0b0101\u001b[39m, \u001b[38;5;241m0b0110\u001b[39m, \u001b[38;5;241m0b1010\u001b[39m, \u001b[38;5;241m0b1100\u001b[39m, \u001b[38;5;241m0b1001\u001b[39m])  \u001b[38;5;66;03m# List of integers representing Sz eigenstates\u001b[39;00m\n\u001b[1;32m      4\u001b[0m \u001b[38;5;66;03m# Step 1: Decompose into irreps\u001b[39;00m\n\u001b[0;32m----> 5\u001b[0m irreps \u001b[38;5;241m=\u001b[39m \u001b[43mP\u001b[49m\u001b[38;5;241;43m.\u001b[39;49m\u001b[43mirreps\u001b[49m()  \u001b[38;5;66;03m# Get irreducible representations of P\u001b[39;00m\n\u001b[1;32m      6\u001b[0m symmetry_adapted_basis \u001b[38;5;241m=\u001b[39m {}\n\u001b[1;32m      8\u001b[0m \u001b[38;5;28;01mfor\u001b[39;00m irrep \u001b[38;5;129;01min\u001b[39;00m irreps:\n\u001b[1;32m      9\u001b[0m     \u001b[38;5;66;03m# Construct projection operator P_Gamma\u001b[39;00m\n",
      "\u001b[0;31mAttributeError\u001b[0m: 'PermutationGroup' object has no attribute 'irreps'"
     ]
    }
   ],
   "source": [
    "\n",
    "# Define the original basis B\n",
    "B = sorted([0b0011, 0b0101, 0b0110, 0b1010, 0b1100, 0b1001])  # List of integers representing Sz eigenstates\n",
    "\n",
    "# Step 1: Decompose into irreps\n",
    "irreps = P.irreps()  # Get irreducible representations of P\n",
    "symmetry_adapted_basis = {}\n",
    "\n",
    "for irrep in irreps:\n",
    "    # Construct projection operator P_Gamma\n",
    "    P_Gamma = construct_projection_operator(irrep, P)\n",
    "    \n",
    "    # Generate symmetry-adapted basis states\n",
    "    symmetry_adapted_basis[irrep] = []\n",
    "    for phi in B:\n",
    "        psi_Gamma = apply_projection(P_Gamma, phi)  # Apply P_Gamma to |phi>\n",
    "        if not is_zero(psi_Gamma):  # Check if the result is non-zero\n",
    "            symmetry_adapted_basis[irrep].append(psi_Gamma)\n",
    "\n",
    "# Step 2: Compute matrix elements of H in the symmetry-adapted basis\n",
    "H_blocks = {}\n",
    "for irrep, basis in symmetry_adapted_basis.items():\n",
    "    n = len(basis)\n",
    "    H_block = np.zeros((n, n))\n",
    "    for i in range(n):\n",
    "        for j in range(n):\n",
    "            H_block[i, j] = compute_matrix_element(H, basis[i], basis[j])\n",
    "    H_blocks[irrep] = H_block\n",
    "\n",
    "# Step 3: Evaluate expectation values\n",
    "def expectation_value(O, psi):\n",
    "    return np.vdot(psi, O(psi))  # Compute <psi|O|psi> without constructing O explicitly\n",
    "\n",
    "# Example: Compute expectation value of an operator O\n",
    "O = lambda psi: ...  # Define O as a function acting on a state\n",
    "psi_Gamma = symmetry_adapted_basis[irrep][0]  # Choose a symmetry-adapted state\n",
    "exp_val = expectation_value(O, psi_Gamma)"
   ]
  },
  {
   "cell_type": "code",
   "execution_count": null,
   "id": "fc3e42ef-aa4a-428a-877b-92a4ae5e6a86",
   "metadata": {},
   "outputs": [],
   "source": []
  }
 ],
 "metadata": {
  "kernelspec": {
   "display_name": "Python 3 (ipykernel)",
   "language": "python",
   "name": "python3"
  },
  "language_info": {
   "codemirror_mode": {
    "name": "ipython",
    "version": 3
   },
   "file_extension": ".py",
   "mimetype": "text/x-python",
   "name": "python",
   "nbconvert_exporter": "python",
   "pygments_lexer": "ipython3",
   "version": "3.12.5"
  }
 },
 "nbformat": 4,
 "nbformat_minor": 5
}
